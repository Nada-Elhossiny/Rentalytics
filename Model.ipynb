{
 "cells": [
  {
   "cell_type": "code",
   "execution_count": 1,
   "metadata": {},
   "outputs": [],
   "source": [
    "import pandas as pd\n",
    "from sklearn.model_selection import train_test_split\n",
    "from sklearn.linear_model import LinearRegression\n",
    "from sklearn.metrics import mean_squared_error, r2_score, mean_absolute_error\n",
    "from sklearn.impute import SimpleImputer\n",
    "from sklearn.ensemble import RandomForestRegressor\n",
    "import xgboost as xgb"
   ]
  },
  {
   "cell_type": "code",
   "execution_count": 2,
   "metadata": {},
   "outputs": [],
   "source": [
    "# Read the cleaned file\n",
    "df = pd.read_csv(\"data/cleaned_toronto_dataset.csv\")"
   ]
  },
  {
   "cell_type": "code",
   "execution_count": 3,
   "metadata": {},
   "outputs": [],
   "source": [
    "# Define X and y for Linear Regression\n",
    "X = df.drop(\"price\", axis=1)\n",
    "y = df[\"price\"]\n",
    "\n",
    "# Split into training and test sets with 75% for training and 25% for testing\n",
    "X_train_LR, X_test_LR, y_train_LR, y_test_LR = train_test_split(X, y, test_size=0.25, random_state=42)"
   ]
  },
  {
   "cell_type": "code",
   "execution_count": 4,
   "metadata": {},
   "outputs": [
    {
     "name": "stdout",
     "output_type": "stream",
     "text": [
      "MSE: 6351.199420227355\n",
      "RMSE: 79.69441272904491\n",
      "R-squared: 0.4756241888901267\n",
      "MAE: 53.853046260018075\n"
     ]
    }
   ],
   "source": [
    "# Create a Linear Regression Model\n",
    "Lin_Reg_model = LinearRegression()\n",
    "\n",
    "# Fill in missing values\n",
    "imputer = SimpleImputer(strategy='median')\n",
    "X_train_LR = imputer.fit_transform(X_train_LR)\n",
    "X_test_LR = imputer.transform(X_test_LR)\n",
    "\n",
    "# Fit the model to the training set\n",
    "Lin_Reg_model.fit(X_train_LR, y_train_LR)\n",
    "\n",
    "# Predict on the test set\n",
    "y_pred = Lin_Reg_model.predict(X_test_LR)\n",
    "\n",
    "# Calculate evaluation metrics\n",
    "mse = mean_squared_error(y_test_LR, y_pred)\n",
    "rmse = mean_squared_error(y_test_LR, y_pred, squared=False)\n",
    "r2 = r2_score(y_test_LR, y_pred)\n",
    "mae = mean_absolute_error(y_test_LR, y_pred)\n",
    "\n",
    "# Print evaluation metrics\n",
    "print(\"MSE:\", mse)\n",
    "print(\"RMSE:\", rmse)\n",
    "print(\"R-squared:\", r2)\n",
    "print(\"MAE:\", mae)"
   ]
  },
  {
   "cell_type": "markdown",
   "metadata": {},
   "source": [
    "The MSE on the test set is extremely large. This means that the predictions made by this model are very far from the true values."
   ]
  },
  {
   "cell_type": "code",
   "execution_count": 5,
   "metadata": {},
   "outputs": [],
   "source": [
    "# Define X and y for Random Forest\n",
    "X = df.drop(\"price\", axis=1)\n",
    "y = df[\"price\"]\n",
    "\n",
    "# Split into training and test sets with 75% for training and 25% for testing\n",
    "X_train_RF, X_test_RF, y_train_RF, y_test_RF = train_test_split(X, y, test_size=0.25, random_state=42)"
   ]
  },
  {
   "cell_type": "code",
   "execution_count": 6,
   "metadata": {},
   "outputs": [
    {
     "name": "stdout",
     "output_type": "stream",
     "text": [
      "MSE: 5351.40750345769\n",
      "RMSE: 73.15331505446414\n",
      "R-squared: 0.5581702817788965\n",
      "MAE: 47.55902115821962\n"
     ]
    }
   ],
   "source": [
    "\n",
    "# Create a Random Forest Regressor model\n",
    "rf = RandomForestRegressor(n_estimators=100, random_state=42)\n",
    "\n",
    "# Fill in missing values\n",
    "imputer = SimpleImputer(strategy='median')\n",
    "X_train_RF = imputer.fit_transform(X_train_RF)\n",
    "X_test_RF = imputer.transform(X_test_RF)\n",
    "\n",
    "# Fit the model to the training data\n",
    "rf.fit(X_train_RF, y_train_RF)\n",
    "\n",
    "# Use the model to make predictions on the test set\n",
    "y_pred = rf.predict(X_test_RF)\n",
    "\n",
    "# Calculate evaluation metrics\n",
    "mse = mean_squared_error(y_test_RF, y_pred)\n",
    "rmse = mean_squared_error(y_test_RF, y_pred, squared=False)\n",
    "r2 = r2_score(y_test_RF, y_pred)\n",
    "mae = mean_absolute_error(y_test_RF, y_pred)\n",
    "\n",
    "# Print evaluation metrics\n",
    "print(\"MSE:\", mse)\n",
    "print(\"RMSE:\", rmse)\n",
    "print(\"R-squared:\", r2)\n",
    "print(\"MAE:\", mae)"
   ]
  },
  {
   "cell_type": "markdown",
   "metadata": {},
   "source": [
    "The MSE score is much lower than the linear regression model. Therefore, the Random Forest model is performing better."
   ]
  },
  {
   "cell_type": "code",
   "execution_count": 7,
   "metadata": {},
   "outputs": [],
   "source": [
    "# Define X and y for XGBoost\n",
    "X = df.drop(\"price\", axis=1)\n",
    "y = df[\"price\"]\n",
    "\n",
    "# Split into training and test sets with 75% for training and 25% for testing\n",
    "X_train_XG, X_test_XG, y_train_XG, y_test_XG = train_test_split(X, y, test_size=0.25, random_state=42)"
   ]
  },
  {
   "cell_type": "code",
   "execution_count": 8,
   "metadata": {},
   "outputs": [
    {
     "name": "stdout",
     "output_type": "stream",
     "text": [
      "MSE: 5504.8105961118545\n",
      "RMSE: 74.19441081450714\n",
      "R-squared: 0.5455048203731183\n",
      "MAE: 47.758891127030516\n"
     ]
    }
   ],
   "source": [
    "# Create XGBoost Model\n",
    "model = xgb.XGBRegressor(\n",
    "    max_depth=3,\n",
    "    learning_rate=0.1,\n",
    "    n_estimators=100,\n",
    "    verbosity=0,\n",
    "    objective=\"reg:squarederror\",\n",
    "    random_state=42,\n",
    ")\n",
    "\n",
    "# Fill in missing values\n",
    "imputer = SimpleImputer(strategy='median')\n",
    "X_train_XG = imputer.fit_transform(X_train_XG)\n",
    "X_test_XG = imputer.transform(X_test_XG)\n",
    "\n",
    "# Train the model\n",
    "model.fit(X_train_XG, y_train_XG)\n",
    "\n",
    "# Make predictions on the test set\n",
    "y_pred = model.predict(X_test_XG)\n",
    "\n",
    "# Calculate evaluation metrics\n",
    "mse = mean_squared_error(y_test_XG, y_pred)\n",
    "rmse = mean_squared_error(y_test_XG, y_pred, squared=False)\n",
    "r2 = r2_score(y_test_XG, y_pred)\n",
    "mae = mean_absolute_error(y_test_XG, y_pred)\n",
    "\n",
    "# Print evaluation metrics\n",
    "print(\"MSE:\", mse)\n",
    "print(\"RMSE:\", rmse)\n",
    "print(\"R-squared:\", r2)\n",
    "print(\"MAE:\", mae)"
   ]
  },
  {
   "cell_type": "markdown",
   "metadata": {},
   "source": [
    "The score for XGBoost is slightly better but still very similar to the random forest."
   ]
  }
 ],
 "metadata": {
  "interpreter": {
   "hash": "323334d435dbda18355573db32188b32d4fbcf79d44848214f715dd8ef17583e"
  },
  "kernelspec": {
   "display_name": "Python 3.8.8 ('airbnb-env')",
   "language": "python",
   "name": "python3"
  },
  "language_info": {
   "codemirror_mode": {
    "name": "ipython",
    "version": 3
   },
   "file_extension": ".py",
   "mimetype": "text/x-python",
   "name": "python",
   "nbconvert_exporter": "python",
   "pygments_lexer": "ipython3",
   "version": "3.8.8"
  },
  "orig_nbformat": 4
 },
 "nbformat": 4,
 "nbformat_minor": 2
}
