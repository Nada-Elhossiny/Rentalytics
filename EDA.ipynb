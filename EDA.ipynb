{
 "cells": [
  {
   "cell_type": "code",
   "execution_count": 1,
   "metadata": {},
   "outputs": [],
   "source": [
    "import pandas as pd\n",
    "import numpy as np\n",
    "import matplotlib.pyplot as plt\n",
    "import seaborn as sns"
   ]
  },
  {
   "cell_type": "code",
   "execution_count": 3,
   "metadata": {},
   "outputs": [],
   "source": [
    "# Load clean dataset\n",
    "df = pd.read_csv('data/cleaned_toronto_dataset.csv')"
   ]
  },
  {
   "cell_type": "code",
   "execution_count": 4,
   "metadata": {},
   "outputs": [
    {
     "name": "stdout",
     "output_type": "stream",
     "text": [
      "           latitude     longitude  accommodates      bedrooms          beds  \\\n",
      "count  16761.000000  16761.000000  16761.000000  16761.000000  16761.000000   \n",
      "mean      43.682360    -79.397685      3.138417      1.475568      1.720876   \n",
      "std        0.048957      0.069265      2.034002      0.845765      1.083909   \n",
      "min       43.585750    -79.621200      0.000000      1.000000      1.000000   \n",
      "25%       43.645610    -79.427840      2.000000      1.000000      1.000000   \n",
      "50%       43.664010    -79.396860      2.000000      1.000000      1.000000   \n",
      "75%       43.706300    -79.373980      4.000000      2.000000      2.000000   \n",
      "max       43.837740    -79.127590     16.000000      9.000000     11.000000   \n",
      "\n",
      "               price  minimum_nights  maximum_nights  availability_365  \\\n",
      "count   16761.000000    16761.000000    16761.000000      16761.000000   \n",
      "mean      197.250726       26.605930      610.521866        153.082990   \n",
      "std      1343.127684       36.381285      479.114595        138.870542   \n",
      "min         0.000000        1.000000        1.000000          0.000000   \n",
      "25%        76.000000       28.000000      115.000000          1.000000   \n",
      "50%       120.000000       28.000000      365.000000        110.000000   \n",
      "75%       200.000000       28.000000     1125.000000        309.000000   \n",
      "max    110114.000000     1125.000000    10001.000000        365.000000   \n",
      "\n",
      "       number_of_reviews  ...  [\"Security cameras on property\"  \\\n",
      "count       16761.000000  ...                     16761.000000   \n",
      "mean           26.101366  ...                         0.002386   \n",
      "std            54.815236  ...                         0.048795   \n",
      "min             0.000000  ...                         0.000000   \n",
      "25%             1.000000  ...                         0.000000   \n",
      "50%             5.000000  ...                         0.000000   \n",
      "75%            26.000000  ...                         0.000000   \n",
      "max           853.000000  ...                         1.000000   \n",
      "\n",
      "       [\"Self check-in\"  [\"Shared pool\"  [\"Smoke alarm\"  \\\n",
      "count      16761.000000    16761.000000    16761.000000   \n",
      "mean           0.000060        0.000358        0.000537   \n",
      "std            0.007724        0.018917        0.023167   \n",
      "min            0.000000        0.000000        0.000000   \n",
      "25%            0.000000        0.000000        0.000000   \n",
      "50%            0.000000        0.000000        0.000000   \n",
      "75%            0.000000        0.000000        0.000000   \n",
      "max            1.000000        1.000000        1.000000   \n",
      "\n",
      "       [\"SoftSoap body soap\"         [\"TV\"  [\"Varies shampoo\"  \\\n",
      "count           16761.000000  16761.000000       16761.000000   \n",
      "mean                0.000179      0.000119           0.000060   \n",
      "std                 0.013378      0.010923           0.007724   \n",
      "min                 0.000000      0.000000           0.000000   \n",
      "25%                 0.000000      0.000000           0.000000   \n",
      "50%                 0.000000      0.000000           0.000000   \n",
      "75%                 0.000000      0.000000           0.000000   \n",
      "max                 1.000000      1.000000           1.000000   \n",
      "\n",
      "       [\"Washer \\u2013\\u00a0In building\"  [\"Washer \\u2013\\u00a0In unit\"  \\\n",
      "count                       16761.000000                   16761.000000   \n",
      "mean                            0.000060                       0.000298   \n",
      "std                             0.007724                       0.017270   \n",
      "min                             0.000000                       0.000000   \n",
      "25%                             0.000000                       0.000000   \n",
      "50%                             0.000000                       0.000000   \n",
      "75%                             0.000000                       0.000000   \n",
      "max                             1.000000                       1.000000   \n",
      "\n",
      "          [\"Washer\"  \n",
      "count  16761.000000  \n",
      "mean       0.000656  \n",
      "std        0.025610  \n",
      "min        0.000000  \n",
      "25%        0.000000  \n",
      "50%        0.000000  \n",
      "75%        0.000000  \n",
      "max        1.000000  \n",
      "\n",
      "[8 rows x 4273 columns]\n"
     ]
    }
   ],
   "source": [
    "# Print summary statistics of numerical columns\n",
    "print(df.describe())"
   ]
  },
  {
   "cell_type": "code",
   "execution_count": 7,
   "metadata": {},
   "outputs": [
    {
     "data": {
      "image/png": "[encoded data removed]",
      "text/plain": [
       "<Figure size 640x480 with 1 Axes>"
      ]
     },
     "metadata": {},
     "output_type": "display_data"
    }
   ],
   "source": [
    "# Look at distribution of price\n",
    "plt.hist(df[\"price\"], bins=50)\n",
    "plt.xlabel(\"price\")\n",
    "plt.ylabel(\"frequency\")\n",
    "plt.title(\"Price Distribution\")\n",
    "plt.show()"
   ]
  },
  {
   "cell_type": "code",
   "execution_count": 9,
   "metadata": {},
   "outputs": [
    {
     "name": "stdout",
     "output_type": "stream",
     "text": [
      "               price      bedrooms     bathrooms  accommodates  \\\n",
      "count   16761.000000  16761.000000  16716.000000  16761.000000   \n",
      "mean      197.250726      1.475568      1.366625      3.138417   \n",
      "std      1343.127684      0.845765      0.589031      2.034002   \n",
      "min         0.000000      1.000000      0.000000      0.000000   \n",
      "25%        76.000000      1.000000      1.000000      2.000000   \n",
      "50%       120.000000      1.000000      1.000000      2.000000   \n",
      "75%       200.000000      2.000000      1.500000      4.000000   \n",
      "max    110114.000000      9.000000      7.500000     16.000000   \n",
      "\n",
      "       number_of_reviews  \n",
      "count       16761.000000  \n",
      "mean           26.101366  \n",
      "std            54.815236  \n",
      "min             0.000000  \n",
      "25%             1.000000  \n",
      "50%             5.000000  \n",
      "75%            26.000000  \n",
      "max           853.000000  \n"
     ]
    }
   ],
   "source": [
    "selected_columns = ['price', 'bedrooms', 'bathrooms', 'accommodates', 'number_of_reviews']\n",
    "df_selected = df[selected_columns]\n",
    "print(df_selected[['price', 'bedrooms', 'bathrooms', 'accommodates', 'number_of_reviews']].describe())"
   ]
  }
 ],
 "metadata": {
  "interpreter": {
   "hash": "323334d435dbda18355573db32188b32d4fbcf79d44848214f715dd8ef17583e"
  },
  "kernelspec": {
   "display_name": "Python 3.8.8 ('airbnb-env')",
   "language": "python",
   "name": "python3"
  },
  "language_info": {
   "codemirror_mode": {
    "name": "ipython",
    "version": 3
   },
   "file_extension": ".py",
   "mimetype": "text/x-python",
   "name": "python",
   "nbconvert_exporter": "python",
   "pygments_lexer": "ipython3",
   "version": "3.8.8"
  },
  "orig_nbformat": 4
 },
 "nbformat": 4,
 "nbformat_minor": 2
}
